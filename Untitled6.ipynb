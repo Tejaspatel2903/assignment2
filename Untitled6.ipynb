{
  "nbformat": 4,
  "nbformat_minor": 0,
  "metadata": {
    "colab": {
      "provenance": []
    },
    "kernelspec": {
      "name": "python3",
      "display_name": "Python 3"
    },
    "language_info": {
      "name": "python"
    }
  },
  "cells": [
    {
      "cell_type": "markdown",
      "source": [
        "1.What are the two values of the Boolean data type? How do you write them?\n",
        "\n",
        "Ans  True and False, using capital T and F,"
      ],
      "metadata": {
        "id": "9_ewyGi0DCK5"
      }
    },
    {
      "cell_type": "code",
      "execution_count": 2,
      "metadata": {
        "colab": {
          "base_uri": "https://localhost:8080/"
        },
        "id": "HJ1wdzoDCoQj",
        "outputId": "2881bf96-e205-4140-dff7-ecbe64b0eb5b"
      },
      "outputs": [
        {
          "output_type": "stream",
          "name": "stdout",
          "text": [
            "True\n",
            "False\n"
          ]
        }
      ],
      "source": [
        "#Eg:\n",
        "a = True\n",
        "b = False\n",
        "print(a)\n",
        "print(b)"
      ]
    },
    {
      "cell_type": "markdown",
      "source": [
        "Q2. What are the three different types of Boolean operators?\n",
        "\n",
        "Ans :- and, or, and not\n"
      ],
      "metadata": {
        "id": "_oA8_xIMEUYf"
      }
    },
    {
      "cell_type": "markdown",
      "source": [
        "Q3. Make a list of each Boolean operator's truth tables (i.e. every possible combination of Boolean\n",
        "values for the operator and what it evaluate ).\n",
        "\n",
        "Ans:- True and True is True.\n",
        "\n",
        "True and False is False.\n",
        "\n",
        "False and True is False.\n",
        "\n",
        "False and False is False.\n",
        "\n",
        "True or True is True.\n",
        "\n",
        "True or False is True.\n",
        "\n",
        "False or True is True.\n",
        "\n",
        "False or False is False.\n",
        "\n",
        "not True is False.\n",
        "\n",
        "not False is True."
      ],
      "metadata": {
        "id": "DUM2u2U5EaYj"
      }
    },
    {
      "cell_type": "markdown",
      "source": [
        "True is 1 and False is 0\n",
        "\n",
        "Truth Table for AND\n",
        "\n",
        "A B output\n",
        "\n",
        "0 0 0\n",
        "\n",
        "0 1 0\n",
        "\n",
        "1 0 0\n",
        "\n",
        "1 1 1\n",
        "\n",
        "Truth Table for OR\n",
        "\n",
        "A B output\n",
        "\n",
        "0 0 0\n",
        "\n",
        "0 1 1\n",
        "\n",
        "1 0 1\n",
        "\n",
        "1 1 1\n",
        "\n",
        "Truth Table for NOT\n",
        "\n",
        "A output\n",
        "\n",
        "0 1\n",
        "\n",
        "1 0\n"
      ],
      "metadata": {
        "id": "X1uNJ3cbEqrO"
      }
    },
    {
      "cell_type": "markdown",
      "source": [
        "Q4. What are the values of the following expressions?"
      ],
      "metadata": {
        "id": "hCRo15o8E8vf"
      }
    },
    {
      "cell_type": "code",
      "source": [
        "print((5>4) and (3==5))\n",
        "print(not(5>4))\n",
        "print((5>4) or (3==5))\n",
        "print(not(5>4) or (3==5))\n",
        "print((True and True) and (True==False))\n",
        "print((not(False))or(not(True)))"
      ],
      "metadata": {
        "colab": {
          "base_uri": "https://localhost:8080/"
        },
        "id": "98yOPTuxEMrb",
        "outputId": "3a34da31-a71d-4866-e6f4-3a19b7446d77"
      },
      "execution_count": 3,
      "outputs": [
        {
          "output_type": "stream",
          "name": "stdout",
          "text": [
            "False\n",
            "False\n",
            "True\n",
            "False\n",
            "False\n",
            "True\n"
          ]
        }
      ]
    },
    {
      "cell_type": "markdown",
      "source": [
        "Q5. What are the six comparison operators?\n",
        "\n",
        "Ans . ==, !=, <, >, <=, and >="
      ],
      "metadata": {
        "id": "yffbO4KwFr8h"
      }
    },
    {
      "cell_type": "markdown",
      "source": [
        "Q6. How do you tell the difference between the equal to and assignment operators?Describe a condition and when you would use one.\n",
        "\n",
        "== is the equal to operator that compares two values and evaluates to a Boolean, while = is the assignment operator that stores a value in a variable."
      ],
      "metadata": {
        "id": "HwPoQovIFt3f"
      }
    },
    {
      "cell_type": "code",
      "source": [
        "#eg.\n",
        "\n",
        "# Equal To Operator\n",
        "if(2==3):\n",
        "    print(\"True\")\n",
        "else:\n",
        "    print(\"False\")\n",
        "#Assignment operator\n",
        "c=1 #here we have used assignment operator(=) to assign value of c which is 1\n",
        "print(\"c =\",c)"
      ],
      "metadata": {
        "colab": {
          "base_uri": "https://localhost:8080/"
        },
        "id": "785iAf6NEMuR",
        "outputId": "ca8ef50c-bad4-4b89-9d6a-ef652c2b4a39"
      },
      "execution_count": 4,
      "outputs": [
        {
          "output_type": "stream",
          "name": "stdout",
          "text": [
            "False\n",
            "c = 1\n"
          ]
        }
      ]
    },
    {
      "cell_type": "markdown",
      "source": [
        "Q7. Identify the three blocks in this code:\n"
      ],
      "metadata": {
        "id": "Scnf6LgQGaea"
      }
    },
    {
      "cell_type": "code",
      "source": [
        "spam = 0\n",
        "if spam == 10:\n",
        "  print('eggs')\n",
        "if spam > 5:\n",
        "  print('bacon')\n",
        "else:\n",
        "  print('ham')\n",
        "  print('spam')\n",
        "  print('spam')"
      ],
      "metadata": {
        "colab": {
          "base_uri": "https://localhost:8080/"
        },
        "id": "9OLNgV40EMx1",
        "outputId": "c90bb1eb-a135-4b77-eac9-b63d95a1312c"
      },
      "execution_count": 10,
      "outputs": [
        {
          "output_type": "stream",
          "name": "stdout",
          "text": [
            "ham\n",
            "spam\n",
            "spam\n"
          ]
        }
      ]
    },
    {
      "cell_type": "markdown",
      "source": [
        "Q8. Write code that prints Hello if 1 is stored in spam, prints Howdy if 2 is stored in spam, and prints Greetings! if anything else is stored in spam."
      ],
      "metadata": {
        "id": "Vvkr5f_5HG93"
      }
    },
    {
      "cell_type": "code",
      "source": [
        "spam = int(input(\"input a no.\"))\n",
        "if spam == 1:\n",
        "  print(\"hallo\")\n",
        "elif spam == 2:\n",
        "  print(\"howdy\")\n",
        "else:\n",
        "  print(\"greetigs!\")\n",
        "\n"
      ],
      "metadata": {
        "colab": {
          "base_uri": "https://localhost:8080/"
        },
        "id": "8UmMS88QEM0y",
        "outputId": "45f6f927-a651-4e3c-aeb9-ec64fb188de0"
      },
      "execution_count": 14,
      "outputs": [
        {
          "output_type": "stream",
          "name": "stdout",
          "text": [
            "input a no.1\n",
            "hallo\n"
          ]
        }
      ]
    },
    {
      "cell_type": "markdown",
      "source": [
        "Q9.If your programme is stuck in an endless loop, what keys you’ll press?\n",
        "\n",
        "Ans . If program is stuck in endless loop we will press ctrl+c."
      ],
      "metadata": {
        "id": "VvY2h4YrJPCO"
      }
    },
    {
      "cell_type": "markdown",
      "source": [
        "Q10. How can you tell the difference between break and continue?"
      ],
      "metadata": {
        "id": "roufdE4NJnYx"
      }
    },
    {
      "cell_type": "code",
      "source": [
        "# use of break\n",
        "for i in range(10):\n",
        "    if(i==7):\n",
        "        break\n",
        "    print(i)\n",
        "    \n",
        "print('Breaked')\n",
        "#use of  continue\n",
        "for i in range(10):\n",
        "    if(i==7):\n",
        "        continue\n",
        "    print(i)\n",
        "    "
      ],
      "metadata": {
        "colab": {
          "base_uri": "https://localhost:8080/"
        },
        "id": "6elJlfZiI46K",
        "outputId": "c0184b4f-0431-4033-f780-7985468ac68e"
      },
      "execution_count": 15,
      "outputs": [
        {
          "output_type": "stream",
          "name": "stdout",
          "text": [
            "0\n",
            "1\n",
            "2\n",
            "3\n",
            "4\n",
            "5\n",
            "6\n",
            "Breaked\n",
            "0\n",
            "1\n",
            "2\n",
            "3\n",
            "4\n",
            "5\n",
            "6\n",
            "8\n",
            "9\n"
          ]
        }
      ]
    },
    {
      "cell_type": "markdown",
      "source": [
        "Ans . The break statement will move the execution outside and just after a loop. The continue statement will move the execution to the start of the loop."
      ],
      "metadata": {
        "id": "04f5GIsiKA7Z"
      }
    },
    {
      "cell_type": "markdown",
      "source": [
        "Q11. In a for loop, what is the difference between range(10), range(0, 10), and range(0, 10, 1)?"
      ],
      "metadata": {
        "id": "JAX473d7KDNV"
      }
    },
    {
      "cell_type": "code",
      "source": [
        "for i in range(10):\n",
        "    print(i)\n",
        "print(\"xxxxxxxxxxxxxxxxxxxxxxxxxxxxxxxxxxxxxxxxxxxxxxxxxxxxxxxxxxxxxxxxxxxxxxxxxxxxxxxxxxxxxx\") \n",
        "for i in range(0,10):\n",
        "    print(i)\n",
        "print(\"xxxxxxxxxxxxxxxxxxxxxxxxxxxxxxxxxxxxxxxxxxxxxxxxxxxxxxxxxxxxxxxxxxxxxxxxxxxxxxxxxxxxxx\")\n",
        "for i in range(0,10,1):\n",
        "    print(i)"
      ],
      "metadata": {
        "colab": {
          "base_uri": "https://localhost:8080/"
        },
        "id": "rQSiD0N0JNoG",
        "outputId": "cbe81f4c-14b9-46be-dc48-474b0b7e18c3"
      },
      "execution_count": 16,
      "outputs": [
        {
          "output_type": "stream",
          "name": "stdout",
          "text": [
            "0\n",
            "1\n",
            "2\n",
            "3\n",
            "4\n",
            "5\n",
            "6\n",
            "7\n",
            "8\n",
            "9\n",
            "xxxxxxxxxxxxxxxxxxxxxxxxxxxxxxxxxxxxxxxxxxxxxxxxxxxxxxxxxxxxxxxxxxxxxxxxxxxxxxxxxxxxxx\n",
            "0\n",
            "1\n",
            "2\n",
            "3\n",
            "4\n",
            "5\n",
            "6\n",
            "7\n",
            "8\n",
            "9\n",
            "xxxxxxxxxxxxxxxxxxxxxxxxxxxxxxxxxxxxxxxxxxxxxxxxxxxxxxxxxxxxxxxxxxxxxxxxxxxxxxxxxxxxxx\n",
            "0\n",
            "1\n",
            "2\n",
            "3\n",
            "4\n",
            "5\n",
            "6\n",
            "7\n",
            "8\n",
            "9\n"
          ]
        }
      ]
    },
    {
      "cell_type": "markdown",
      "source": [
        "From the above output we can conclude that they all do the same thing. The range(10) call ranges from 0 up to (but not including) 10, range(0, 10) tells the loop to start at 0, and range(0, 10, 1) tells the loop to increase the variable by 1 on each iteration."
      ],
      "metadata": {
        "id": "KTgx5__ZKMVm"
      }
    },
    {
      "cell_type": "markdown",
      "source": [
        "Q12. Write a short program that prints the numbers 1 to 10 using a for loop. Then write an equivalent program that prints the numbers 1 to 10 using a while loop."
      ],
      "metadata": {
        "id": "gthWw62MKSAH"
      }
    },
    {
      "cell_type": "code",
      "source": [
        "#Use of For Loop\n",
        "print(\"For Loop\")\n",
        "for i in range(1,11):\n",
        "    print(i)\n",
        "#Use of While Loop\n",
        "print(\"While Loop\")\n",
        "a =1\n",
        "while a <= 10:\n",
        "    print(a)\n",
        "    a+=1"
      ],
      "metadata": {
        "colab": {
          "base_uri": "https://localhost:8080/"
        },
        "id": "FQ12xW7IJNyG",
        "outputId": "84b2666d-18cc-462e-c27c-24ea76045623"
      },
      "execution_count": 17,
      "outputs": [
        {
          "output_type": "stream",
          "name": "stdout",
          "text": [
            "For Loop\n",
            "1\n",
            "2\n",
            "3\n",
            "4\n",
            "5\n",
            "6\n",
            "7\n",
            "8\n",
            "9\n",
            "10\n",
            "While Loop\n",
            "1\n",
            "2\n",
            "3\n",
            "4\n",
            "5\n",
            "6\n",
            "7\n",
            "8\n",
            "9\n",
            "10\n"
          ]
        }
      ]
    },
    {
      "cell_type": "markdown",
      "source": [
        "Q13. If you had a function named bacon() inside a module named spam, how would you call it after importing spam?\n",
        "\n",
        "And:- This function can be called with spam.bacon()."
      ],
      "metadata": {
        "id": "3XUn7X5nKagX"
      }
    },
    {
      "cell_type": "code",
      "source": [],
      "metadata": {
        "id": "bbPhKxLYJN1f"
      },
      "execution_count": null,
      "outputs": []
    },
    {
      "cell_type": "code",
      "source": [],
      "metadata": {
        "id": "o8-FaYIlJN8R"
      },
      "execution_count": null,
      "outputs": []
    },
    {
      "cell_type": "code",
      "source": [],
      "metadata": {
        "id": "P1RLUD5iI420"
      },
      "execution_count": null,
      "outputs": []
    }
  ]
}